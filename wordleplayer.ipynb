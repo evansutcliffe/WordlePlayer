{
 "cells": [
  {
   "cell_type": "markdown",
   "id": "3e2041aa-53e7-4fe2-b530-94581d540563",
   "metadata": {},
   "source": [
    "## Wordle\n",
    "words from https://github.com/dwyl/english-words    \n",
    "letter freqs from #https://www3.nd.edu/~busiforc/handouts/cryptography/letterfrequencies.html"
   ]
  },
  {
   "cell_type": "code",
   "execution_count": 1,
   "id": "1d0c86e0-2ffb-4742-bbc3-eaf6e3123477",
   "metadata": {},
   "outputs": [],
   "source": [
    "import numpy as np\n",
    "import random \n",
    "import json\n",
    "\n",
    "from wordleoracle import WordleOracle ,get_possible_words\n",
    "colourmap = {0:'grey',1:\"yellow\",2:\"green\"}"
   ]
  },
  {
   "cell_type": "code",
   "execution_count": 2,
   "id": "37432ca9-57a8-4a51-88f9-cca24224f85e",
   "metadata": {},
   "outputs": [],
   "source": [
    "Orc = WordleOracle()"
   ]
  },
  {
   "cell_type": "code",
   "execution_count": 3,
   "id": "93b11bc3-e2b1-4ae3-bc1f-61a64975eac3",
   "metadata": {},
   "outputs": [
    {
     "name": "stdout",
     "output_type": "stream",
     "text": [
      "[1 1 2 2 0] == [1 1 2 2 0] True\n",
      "[1 1 2 0 2] == [1 1 2 0 2] True\n",
      "[0 1 2 1 1] == [0 1 2 1 1] True\n",
      "[2 2 2 2 2] == [2 2 2 2 2] True\n",
      "[2 1 0 0 0] == [2 1 0 0 0] True\n",
      "[0 0 0 2 2] == [0 0 0 2 2] True\n",
      "[1 0 0 0 2] == [1 0 0 0 2] True\n"
     ]
    }
   ],
   "source": [
    "# quick testing - if not all positions true then hasn't worked\n",
    "Orc.set_word(\"abbey\")\n",
    "result = Orc.test_guess(\"babes\")\n",
    "expected_result = np.array([1,1,2,2,0])\n",
    "print(result,\"==\",expected_result,(result==expected_result).all())\n",
    "Orc.set_word(\"abbey\")\n",
    "result = Orc.test_guess(\"babby\")\n",
    "expected_result = np.array([1,1,2,0,2])\n",
    "print(result,\"==\",expected_result,(result==expected_result).all())\n",
    "Orc.set_word(\"abbey\")\n",
    "result = Orc.test_guess(\"kebab\")\n",
    "expected_result = np.array([0,1,2,1,1])\n",
    "print(result,\"==\",expected_result,(result==expected_result).all())\n",
    "Orc.set_word(\"abbey\")\n",
    "result = Orc.test_guess(\"abbey\")\n",
    "expected_result = np.array([2,2,2,2,2])\n",
    "print(result,\"==\",expected_result,(result==expected_result).all())\n",
    "Orc.set_word(\"aorta\")\n",
    "result = Orc.test_guess(\"aaaah\",testing=True)\n",
    "expected_result = np.array([2,1,0,0,0])\n",
    "print(result,\"==\",expected_result,(result==expected_result).all())\n",
    "Orc.set_word(\"aaabb\")\n",
    "result = Orc.test_guess(\"bbxbb\",testing=True)\n",
    "expected_result = np.array([0,0,0,2,2])\n",
    "print(result,\"==\",expected_result,(result==expected_result).all())\n",
    "Orc.set_word(\"aaabb\")\n",
    "result = Orc.test_guess(\"bbxxb\",testing=True)\n",
    "expected_result = np.array([1,0,0,0,2])\n",
    "print(result,\"==\",expected_result,(result==expected_result).all())\n",
    "\n"
   ]
  },
  {
   "cell_type": "code",
   "execution_count": 29,
   "id": "bd7ec899-ac93-420e-b8fb-555c66f3a823",
   "metadata": {},
   "outputs": [
    {
     "ename": "SyntaxError",
     "evalue": "invalid character '🟨' (U+1F7E8) (<ipython-input-29-218f8271774b>, line 1)",
     "output_type": "error",
     "traceback": [
      "\u001b[1;36m  File \u001b[1;32m\"<ipython-input-29-218f8271774b>\"\u001b[1;36m, line \u001b[1;32m1\u001b[0m\n\u001b[1;33m    🟨⬛🟩\u001b[0m\n\u001b[1;37m    ^\u001b[0m\n\u001b[1;31mSyntaxError\u001b[0m\u001b[1;31m:\u001b[0m invalid character '🟨' (U+1F7E8)\n"
     ]
    }
   ],
   "source": [
    "🟨⬛🟩\n",
    "print(\"\\U0001F642\")\n",
    "print('\\u0420\\u043e\\u0441\\u0441\\u0438\\u044f')\n",
    "print('\\U+1F7E8')"
   ]
  },
  {
   "cell_type": "code",
   "execution_count": 4,
   "id": "755eb545-665c-4392-ae99-a7887d9efc9a",
   "metadata": {},
   "outputs": [],
   "source": [
    "with open('letter_freq.json') as json_file:\n",
    "    letter_freq_dict = json.load(json_file)"
   ]
  },
  {
   "cell_type": "code",
   "execution_count": 21,
   "id": "f02992cc-d936-4cd4-8a18-63fb2490a6a2",
   "metadata": {},
   "outputs": [],
   "source": [
    "def get_new_possible_words(possible_words,guess_list= [],results_list= []):\n",
    "    last_result = results_list[-1]\n",
    "    last_guess = guess_list[-1]\n",
    "    for i in range(5):\n",
    "        c = last_guess[i] \n",
    "        #print(c,\"was\",last_result[i])\n",
    "        if last_result[i] == 0:\n",
    "            if last_guess.count(c)==1:\n",
    "                new_possible_words = [word for word in possible_words if not c in word]\n",
    "            else:\n",
    "                new_possible_words =possible_words\n",
    "                pass # TODO\n",
    "            possible_words = new_possible_words\n",
    "        if last_result[i] == 1:\n",
    "            new_possible_words = [word for word in possible_words if c in word]\n",
    "            possible_words = new_possible_words\n",
    "            new_possible_words = [word for word in possible_words if  not c is word[i]]\n",
    "            possible_words = new_possible_words\n",
    "        if last_result[i] == 2:\n",
    "            new_possible_words = [word for word in possible_words if c is word[i] ]\n",
    "            possible_words = new_possible_words\n",
    "    return possible_words\n",
    "\n",
    "    \n",
    "def make_guess_random(possible_words,guess_list,result_list):\n",
    "    return random.choice(possible_words)\n",
    "\n",
    "def test_guess(guess):\n",
    "    secret_word = \"crunk\"\n",
    "    if not isinstance(guess, str):\n",
    "        raise ValueError(guess,\"not a string\")\n",
    "    if not len(guess)==5:\n",
    "        raise ValueError(guess,\"not 5 letter word\")\n",
    "    results = np.zeros((5))\n",
    "    guess = guess.lower()\n",
    "    for i in range(5): #  not optimised for speed\n",
    "        if guess[i] == secret_word[i]:\n",
    "            results[i]=2\n",
    "        elif guess[i] in secret_word:\n",
    "            results[i] = 1\n",
    "#         else: \n",
    "#           results[i] = 0\n",
    "    return results"
   ]
  },
  {
   "cell_type": "markdown",
   "id": "44d5ac7a-e5da-4908-b54d-a35cf9ccb960",
   "metadata": {},
   "source": [
    "## Basic random guessing"
   ]
  },
  {
   "cell_type": "code",
   "execution_count": 19,
   "id": "f5ee9936-8cdd-44d9-8beb-a46b02283a59",
   "metadata": {},
   "outputs": [
    {
     "name": "stdout",
     "output_type": "stream",
     "text": [
      "round 0 | guess was pinyl | result ==  [0. 0. 1. 0. 0.]\n",
      "15918\n",
      "round 1 | guess was opelu | result ==  [0. 0. 0. 0. 1.]\n",
      "15918\n",
      "round 2 | guess was wevet | result ==  [0. 0. 0. 0. 0.]\n",
      "15918\n",
      "round 3 | guess was tumid | result ==  [0. 1. 0. 0. 0.]\n",
      "15918\n",
      "round 4 | guess was avoir | result ==  [0. 0. 0. 0. 1.]\n",
      "15918\n",
      "round 5 | guess was taker | result ==  [0. 0. 1. 0. 1.]\n",
      "15918\n",
      "Failed :(\n"
     ]
    }
   ],
   "source": [
    "possible_words = get_possible_words()\n",
    "guess_list = []\n",
    "result_list = []\n",
    "finished = False\n",
    "i = 0\n",
    "while(i<6 and finished==False):\n",
    "    guess = random.choice(possible_words)\n",
    "    result = test_guess(guess)\n",
    "    guess_list.append(guess)\n",
    "    result_list.append(result)\n",
    "    print(\"round\",i,\"| guess was\",guess,\"| result == \",result)\n",
    "    print(len(possible_words))\n",
    "    if (result == 2).all():\n",
    "        print(\"Correct!\")\n",
    "        finished = True\n",
    "    i=i+1\n",
    "if not finished:\n",
    "    print(\"Failed :(\")"
   ]
  },
  {
   "cell_type": "markdown",
   "id": "16bb10e4-7af7-4a45-b4ac-6173d4258281",
   "metadata": {},
   "source": [
    "## Random Guessing (pruning)"
   ]
  },
  {
   "cell_type": "code",
   "execution_count": 23,
   "id": "bfecaefd-eb26-4c21-ab8a-92b2c340b3d7",
   "metadata": {},
   "outputs": [
    {
     "name": "stdout",
     "output_type": "stream",
     "text": [
      "finished, average number of rounds was 4.43\n"
     ]
    }
   ],
   "source": [
    "rounds = 100\n",
    "print_vals = False\n",
    "player_results = np.zeros(rounds)\n",
    "total_possible_words = get_possible_words()\n",
    "for k in range(rounds):\n",
    "    Orc.play()\n",
    "    possible_words = total_possible_words.copy()\n",
    "    guess_list = []\n",
    "    result_list = []\n",
    "    finished = False\n",
    "    i = 0\n",
    "    while(i<27 and not finished):\n",
    "        guess = random.choice(possible_words)\n",
    "        result = Orc.test_guess(guess)\n",
    "        guess_list.append(guess)\n",
    "        result_list.append(result)\n",
    "        new_possible_words = get_new_possible_words(possible_words,guess_list,result_list)\n",
    "        possible_words = new_possible_words\n",
    "        if print_vals:\n",
    "            print(\"round\",i,\"| guess was\",guess,\"| possible words remaining\",len(possible_words),\"result == \",result)\n",
    "        if (result == 2).all():\n",
    "            player_results[k]=i\n",
    "            if print_vals:\n",
    "                print(\"Correct!\")\n",
    "            finished = True\n",
    "        i=i+1\n",
    "print(\"finished, average number of rounds was\",np.mean(player_results))"
   ]
  },
  {
   "cell_type": "markdown",
   "id": "670c8e83-799f-46b9-bc3e-5edbb48771fa",
   "metadata": {},
   "source": [
    "## Random Guessing (crane)"
   ]
  },
  {
   "cell_type": "code",
   "execution_count": 7,
   "id": "34d56b28-6390-4967-8853-339a79e31862",
   "metadata": {},
   "outputs": [
    {
     "name": "stdout",
     "output_type": "stream",
     "text": [
      "finished, average number of rounds was 5.307\n"
     ]
    }
   ],
   "source": [
    "rounds = 100\n",
    "player_results = np.zeros(rounds)\n",
    "for k in range(rounds):\n",
    "    Orc.play()\n",
    "    possible_words = get_possible_words()\n",
    "    guess_list = []\n",
    "    result_list = []\n",
    "    finished = False\n",
    "    i = 0\n",
    "    while(i<27 and not finished):\n",
    "        if i ==0:\n",
    "            guess = \"crane\"\n",
    "        else:\n",
    "            guess = random.choice(possible_words)\n",
    "        result = Orc.test_guess(guess)\n",
    "        guess_list.append(guess)\n",
    "        result_list.append(result)\n",
    "        new_possible_words = get_new_possible_words(possible_words,guess_list,result_list)\n",
    "        possible_words = new_possible_words\n",
    "        #print(\"round\",i,\"| guess was\",guess,\"| possible words remaining\",len(possible_words),\"result == \",result)\n",
    "        if (result == 2).all():\n",
    "            player_results[k]=i\n",
    "            #print(\"Correct!\")\n",
    "            finished = True\n",
    "        i=i+1\n",
    "    if not finished: # impossible to reach\n",
    "        player_results[k]= np.inf\n",
    "        #print(\"Failed :( , word was \",Orc.get_word())\n",
    "print(\"finished, average number of rounds was\",np.mean(player_results))"
   ]
  },
  {
   "cell_type": "markdown",
   "id": "084d73e5-ba42-4658-955d-d9ca4c3ad46f",
   "metadata": {},
   "source": [
    "## weighted guess (too slow doesn't work)"
   ]
  },
  {
   "cell_type": "code",
   "execution_count": 13,
   "id": "a0316375-3fdd-4ac6-aaeb-2f1f6df6f207",
   "metadata": {},
   "outputs": [
    {
     "ename": "KeyboardInterrupt",
     "evalue": "",
     "output_type": "error",
     "traceback": [
      "\u001b[1;31m---------------------------------------------------------------------------\u001b[0m",
      "\u001b[1;31mKeyboardInterrupt\u001b[0m                         Traceback (most recent call last)",
      "\u001b[1;32m<ipython-input-13-97a1b46cadeb>\u001b[0m in \u001b[0;36m<module>\u001b[1;34m\u001b[0m\n\u001b[0;32m     22\u001b[0m     \u001b[0mi\u001b[0m \u001b[1;33m=\u001b[0m \u001b[1;36m0\u001b[0m\u001b[1;33m\u001b[0m\u001b[1;33m\u001b[0m\u001b[0m\n\u001b[0;32m     23\u001b[0m     \u001b[1;32mwhile\u001b[0m\u001b[1;33m(\u001b[0m\u001b[0mi\u001b[0m\u001b[1;33m<\u001b[0m\u001b[1;36m27\u001b[0m \u001b[1;32mand\u001b[0m \u001b[1;32mnot\u001b[0m \u001b[0mfinished\u001b[0m\u001b[1;33m)\u001b[0m\u001b[1;33m:\u001b[0m\u001b[1;33m\u001b[0m\u001b[1;33m\u001b[0m\u001b[0m\n\u001b[1;32m---> 24\u001b[1;33m         \u001b[0mguess\u001b[0m \u001b[1;33m=\u001b[0m \u001b[0mmake_guess_weighted\u001b[0m\u001b[1;33m(\u001b[0m\u001b[0mpossible_words\u001b[0m\u001b[1;33m)\u001b[0m\u001b[1;33m\u001b[0m\u001b[1;33m\u001b[0m\u001b[0m\n\u001b[0m\u001b[0;32m     25\u001b[0m         \u001b[0mresult\u001b[0m \u001b[1;33m=\u001b[0m \u001b[0mOrc\u001b[0m\u001b[1;33m.\u001b[0m\u001b[0mtest_guess\u001b[0m\u001b[1;33m(\u001b[0m\u001b[0mguess\u001b[0m\u001b[1;33m)\u001b[0m\u001b[1;33m\u001b[0m\u001b[1;33m\u001b[0m\u001b[0m\n\u001b[0;32m     26\u001b[0m         \u001b[0mguess_list\u001b[0m\u001b[1;33m.\u001b[0m\u001b[0mappend\u001b[0m\u001b[1;33m(\u001b[0m\u001b[0mguess\u001b[0m\u001b[1;33m)\u001b[0m\u001b[1;33m\u001b[0m\u001b[1;33m\u001b[0m\u001b[0m\n",
      "\u001b[1;32m<ipython-input-13-97a1b46cadeb>\u001b[0m in \u001b[0;36mmake_guess_weighted\u001b[1;34m(possible_words)\u001b[0m\n\u001b[0;32m      7\u001b[0m                 \u001b[0mweight\u001b[0m\u001b[1;33m+=\u001b[0m \u001b[0mfreq\u001b[0m\u001b[1;33m\u001b[0m\u001b[1;33m\u001b[0m\u001b[0m\n\u001b[0;32m      8\u001b[0m         \u001b[0mweights\u001b[0m\u001b[1;33m.\u001b[0m\u001b[0mappend\u001b[0m\u001b[1;33m(\u001b[0m\u001b[0mweight\u001b[0m\u001b[1;33m)\u001b[0m\u001b[1;33m\u001b[0m\u001b[1;33m\u001b[0m\u001b[0m\n\u001b[1;32m----> 9\u001b[1;33m         \u001b[0mweights\u001b[0m \u001b[1;33m=\u001b[0m \u001b[1;33m[\u001b[0m\u001b[0mweight\u001b[0m\u001b[1;33m/\u001b[0m \u001b[0msum\u001b[0m\u001b[1;33m(\u001b[0m\u001b[0mweights\u001b[0m\u001b[1;33m)\u001b[0m \u001b[1;32mfor\u001b[0m \u001b[0mweight\u001b[0m \u001b[1;32min\u001b[0m \u001b[0mweights\u001b[0m\u001b[1;33m]\u001b[0m\u001b[1;33m\u001b[0m\u001b[1;33m\u001b[0m\u001b[0m\n\u001b[0m\u001b[0;32m     10\u001b[0m \u001b[1;33m\u001b[0m\u001b[0m\n\u001b[0;32m     11\u001b[0m     \u001b[0mguesses\u001b[0m \u001b[1;33m=\u001b[0m \u001b[0mrandom\u001b[0m\u001b[1;33m.\u001b[0m\u001b[0mchoices\u001b[0m\u001b[1;33m(\u001b[0m\u001b[0mpopulation\u001b[0m \u001b[1;33m=\u001b[0m \u001b[0mpossible_words\u001b[0m\u001b[1;33m,\u001b[0m\u001b[0mweights\u001b[0m\u001b[1;33m=\u001b[0m\u001b[0mweights\u001b[0m\u001b[1;33m)\u001b[0m\u001b[1;33m\u001b[0m\u001b[1;33m\u001b[0m\u001b[0m\n",
      "\u001b[1;32m<ipython-input-13-97a1b46cadeb>\u001b[0m in \u001b[0;36m<listcomp>\u001b[1;34m(.0)\u001b[0m\n\u001b[0;32m      7\u001b[0m                 \u001b[0mweight\u001b[0m\u001b[1;33m+=\u001b[0m \u001b[0mfreq\u001b[0m\u001b[1;33m\u001b[0m\u001b[1;33m\u001b[0m\u001b[0m\n\u001b[0;32m      8\u001b[0m         \u001b[0mweights\u001b[0m\u001b[1;33m.\u001b[0m\u001b[0mappend\u001b[0m\u001b[1;33m(\u001b[0m\u001b[0mweight\u001b[0m\u001b[1;33m)\u001b[0m\u001b[1;33m\u001b[0m\u001b[1;33m\u001b[0m\u001b[0m\n\u001b[1;32m----> 9\u001b[1;33m         \u001b[0mweights\u001b[0m \u001b[1;33m=\u001b[0m \u001b[1;33m[\u001b[0m\u001b[0mweight\u001b[0m\u001b[1;33m/\u001b[0m \u001b[0msum\u001b[0m\u001b[1;33m(\u001b[0m\u001b[0mweights\u001b[0m\u001b[1;33m)\u001b[0m \u001b[1;32mfor\u001b[0m \u001b[0mweight\u001b[0m \u001b[1;32min\u001b[0m \u001b[0mweights\u001b[0m\u001b[1;33m]\u001b[0m\u001b[1;33m\u001b[0m\u001b[1;33m\u001b[0m\u001b[0m\n\u001b[0m\u001b[0;32m     10\u001b[0m \u001b[1;33m\u001b[0m\u001b[0m\n\u001b[0;32m     11\u001b[0m     \u001b[0mguesses\u001b[0m \u001b[1;33m=\u001b[0m \u001b[0mrandom\u001b[0m\u001b[1;33m.\u001b[0m\u001b[0mchoices\u001b[0m\u001b[1;33m(\u001b[0m\u001b[0mpopulation\u001b[0m \u001b[1;33m=\u001b[0m \u001b[0mpossible_words\u001b[0m\u001b[1;33m,\u001b[0m\u001b[0mweights\u001b[0m\u001b[1;33m=\u001b[0m\u001b[0mweights\u001b[0m\u001b[1;33m)\u001b[0m\u001b[1;33m\u001b[0m\u001b[1;33m\u001b[0m\u001b[0m\n",
      "\u001b[1;31mKeyboardInterrupt\u001b[0m: "
     ]
    }
   ],
   "source": [
    "def make_guess_weighted(possible_words): #  too slow\n",
    "    weights=[]\n",
    "    for choice in possible_words:\n",
    "        weight = 0\n",
    "        for letter, freq in letter_freq_dict.items():\n",
    "            if letter in choice:\n",
    "                weight+= freq\n",
    "        weights.append(weight) \n",
    "        weights = [weight/ sum(weights) for weight in weights]\n",
    "\n",
    "    guesses = random.choices(population = possible_words,weights=weights)\n",
    "\n",
    "rounds = 1\n",
    "player_results = np.zeros(rounds)\n",
    "for k in range(rounds):\n",
    "    Orc.play()\n",
    "    possible_words = get_possible_words()\n",
    "    guess_list = []\n",
    "    result_list = []\n",
    "    finished = False\n",
    "    i = 0\n",
    "    while(i<27 and not finished):\n",
    "        guess = make_guess_weighted(possible_words)\n",
    "        result = Orc.test_guess(guess)\n",
    "        guess_list.append(guess)\n",
    "        result_list.append(result)\n",
    "        new_possible_words = get_new_possible_words(possible_words,guess_list,result_list)\n",
    "        possible_words = new_possible_words\n",
    "        #print(\"round\",i,\"| guess was\",guess,\"| possible words remaining\",len(possible_words),\"result == \",result)\n",
    "        if (result == 2).all():\n",
    "            player_results[k]=i\n",
    "            #print(\"Correct!\")\n",
    "            finished = True\n",
    "        i=i+1\n",
    "    if not finished: # impossible to reach\n",
    "        player_results[k]= np.inf\n",
    "        #print(\"Failed :( , word was \",Orc.get_word())\n",
    "print(\"finished, average number of rounds was\",np.mean(player_results))"
   ]
  }
 ],
 "metadata": {
  "kernelspec": {
   "display_name": "Python 3",
   "language": "python",
   "name": "python3"
  },
  "language_info": {
   "codemirror_mode": {
    "name": "ipython",
    "version": 3
   },
   "file_extension": ".py",
   "mimetype": "text/x-python",
   "name": "python",
   "nbconvert_exporter": "python",
   "pygments_lexer": "ipython3",
   "version": "3.9.4"
  }
 },
 "nbformat": 4,
 "nbformat_minor": 5
}
