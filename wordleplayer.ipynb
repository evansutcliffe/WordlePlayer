{
 "cells": [
  {
   "cell_type": "markdown",
   "id": "3e2041aa-53e7-4fe2-b530-94581d540563",
   "metadata": {},
   "source": [
    "## Wordle\n",
    "words from https://github.com/dwyl/english-words    \n",
    "letter freqs from #https://www3.nd.edu/~busiforc/handouts/cryptography/letterfrequencies.html"
   ]
  },
  {
   "cell_type": "code",
   "execution_count": 1,
   "id": "1d0c86e0-2ffb-4742-bbc3-eaf6e3123477",
   "metadata": {},
   "outputs": [],
   "source": [
    "import numpy as np\n",
    "import random \n",
    "import json\n",
    "\n",
    "from wordleoracle import WordleOracle ,get_possible_words"
   ]
  },
  {
   "cell_type": "code",
   "execution_count": 2,
   "id": "37432ca9-57a8-4a51-88f9-cca24224f85e",
   "metadata": {},
   "outputs": [],
   "source": [
    "Orc = WordleOracle()"
   ]
  },
  {
   "cell_type": "code",
   "execution_count": 3,
   "id": "bd7ec899-ac93-420e-b8fb-555c66f3a823",
   "metadata": {},
   "outputs": [
    {
     "ename": "SyntaxError",
     "evalue": "invalid character '🟨' (U+1F7E8) (<ipython-input-3-218f8271774b>, line 1)",
     "output_type": "error",
     "traceback": [
      "\u001b[1;36m  File \u001b[1;32m\"<ipython-input-3-218f8271774b>\"\u001b[1;36m, line \u001b[1;32m1\u001b[0m\n\u001b[1;33m    🟨⬛🟩\u001b[0m\n\u001b[1;37m    ^\u001b[0m\n\u001b[1;31mSyntaxError\u001b[0m\u001b[1;31m:\u001b[0m invalid character '🟨' (U+1F7E8)\n"
     ]
    }
   ],
   "source": [
    "🟨⬛🟩\n",
    "print(\"\\U0001F642\")\n",
    "print('\\u0420\\u043e\\u0441\\u0441\\u0438\\u044f')\n",
    "print('\\U+1F7E8')"
   ]
  },
  {
   "cell_type": "code",
   "execution_count": 4,
   "id": "755eb545-665c-4392-ae99-a7887d9efc9a",
   "metadata": {},
   "outputs": [],
   "source": [
    "with open('letter_freq.json') as json_file:\n",
    "    letter_freq_dict = json.load(json_file)"
   ]
  },
  {
   "cell_type": "code",
   "execution_count": 5,
   "id": "f02992cc-d936-4cd4-8a18-63fb2490a6a2",
   "metadata": {},
   "outputs": [],
   "source": [
    "def get_new_possible_words(previous_possible_words,guess_list= [],results_list= []):\n",
    "    possible_words = previous_possible_words.copy()\n",
    "    last_result = results_list[-1]\n",
    "    last_guess = guess_list[-1]\n",
    "    for i in range(len(last_result)):\n",
    "        c = last_guess[i] \n",
    "        #print(c,\"was\",last_result[i])\n",
    "        if last_result[i] == 0:\n",
    "            new_possible_words = [word for word in possible_words if c not in word]\n",
    "            possible_words = new_possible_words\n",
    "        if last_result[i] == 1:\n",
    "            new_possible_words = [word for word in possible_words if c in word]\n",
    "            possible_words = new_possible_words\n",
    "        if last_result[i] == 2:\n",
    "            new_possible_words = [word for word in possible_words if word[i] == c]\n",
    "            possible_words = new_possible_words\n",
    "    return possible_words\n",
    "    \n",
    "def make_guess_random(possible_words,guess_list,result_list):\n",
    "    return random.choice(possible_words)\n",
    "\n",
    "def test_guess(guess):\n",
    "    secret_word = \"crunk\"\n",
    "    if not isinstance(guess, str):\n",
    "        raise ValueError(guess,\"not a string\")\n",
    "    if not len(guess)==5:\n",
    "        raise ValueError(guess,\"not 5 letter word\")\n",
    "    results = np.zeros((5))\n",
    "    guess = guess.lower()\n",
    "    for i in range(5): #  not optimised for speed\n",
    "        if guess[i] == secret_word[i]:\n",
    "            results[i]=2\n",
    "        elif guess[i] in secret_word:\n",
    "            results[i] = 1\n",
    "#         else: \n",
    "#           results[i] = 0\n",
    "    return results"
   ]
  },
  {
   "cell_type": "markdown",
   "id": "44d5ac7a-e5da-4908-b54d-a35cf9ccb960",
   "metadata": {},
   "source": [
    "## Basic random guessing"
   ]
  },
  {
   "cell_type": "code",
   "execution_count": 6,
   "id": "f5ee9936-8cdd-44d9-8beb-a46b02283a59",
   "metadata": {},
   "outputs": [
    {
     "name": "stdout",
     "output_type": "stream",
     "text": [
      "round 0 | guess was agend | result ==  [0. 0. 0. 2. 0.]\n",
      "15918\n",
      "round 1 | guess was ahush | result ==  [0. 0. 2. 0. 0.]\n",
      "15918\n",
      "round 2 | guess was hiera | result ==  [0. 0. 0. 1. 0.]\n",
      "15918\n",
      "round 3 | guess was boodh | result ==  [0. 0. 0. 0. 0.]\n",
      "15918\n",
      "round 4 | guess was piast | result ==  [0. 0. 0. 0. 0.]\n",
      "15918\n",
      "round 5 | guess was liszt | result ==  [0. 0. 0. 0. 0.]\n",
      "15918\n",
      "Failed :(\n"
     ]
    }
   ],
   "source": [
    "possible_words = get_possible_words()\n",
    "guess_list = []\n",
    "result_list = []\n",
    "finished = False\n",
    "i = 0\n",
    "while(i<6 and finished==False):\n",
    "    guess = random.choice(possible_words)\n",
    "    result = test_guess(guess)\n",
    "    guess_list.append(guess)\n",
    "    result_list.append(result)\n",
    "    print(\"round\",i,\"| guess was\",guess,\"| result == \",result)\n",
    "    print(len(possible_words))\n",
    "    if (result == 2).all():\n",
    "        print(\"Correct!\")\n",
    "        finished = True\n",
    "    i=i+1\n",
    "if not finished:\n",
    "    print(\"Failed :(\")"
   ]
  },
  {
   "cell_type": "markdown",
   "id": "16bb10e4-7af7-4a45-b4ac-6173d4258281",
   "metadata": {},
   "source": [
    "## Random Guessing (pruning)"
   ]
  },
  {
   "cell_type": "code",
   "execution_count": 6,
   "id": "bfecaefd-eb26-4c21-ab8a-92b2c340b3d7",
   "metadata": {},
   "outputs": [
    {
     "name": "stdout",
     "output_type": "stream",
     "text": [
      "round 0 | guess was colat | possible words remaining 2736 result ==  [0. 0. 0. 1. 0.]\n",
      "round 1 | guess was naira | possible words remaining 239 result ==  [1. 2. 0. 0. 1.]\n",
      "round 2 | guess was mayan | possible words remaining 149 result ==  [0. 2. 0. 1. 1.]\n",
      "round 3 | guess was fauns | possible words remaining 28 result ==  [0. 2. 0. 1. 2.]\n",
      "round 4 | guess was vanes | possible words remaining 14 result ==  [0. 2. 2. 0. 2.]\n",
      "round 5 | guess was bangs | possible words remaining 1 result ==  [2. 2. 2. 2. 2.]\n",
      "Correct!\n",
      "round 0 | guess was twilt | possible words remaining 2114 result ==  [1. 0. 0. 0. 1.]\n",
      "round 1 | guess was turco | possible words remaining 313 result ==  [1. 0. 0. 0. 1.]\n",
      "round 2 | guess was tempo | possible words remaining 15 result ==  [1. 1. 0. 1. 1.]\n",
      "round 3 | guess was epopt | possible words remaining 3 result ==  [2. 1. 1. 1. 1.]\n",
      "round 4 | guess was exopt | possible words remaining 2 result ==  [2. 0. 1. 1. 1.]\n",
      "round 5 | guess was estop | possible words remaining 1 result ==  [2. 2. 2. 2. 2.]\n",
      "Correct!\n",
      "round 0 | guess was budgy | possible words remaining 6739 result ==  [0. 0. 0. 0. 0.]\n",
      "round 1 | guess was lacis | possible words remaining 414 result ==  [0. 0. 0. 0. 0.]\n",
      "round 2 | guess was troft | possible words remaining 67 result ==  [1. 1. 1. 0. 1.]\n",
      "round 3 | guess was metro | possible words remaining 12 result ==  [0. 1. 2. 1. 1.]\n",
      "round 4 | guess was roter | possible words remaining 5 result ==  [1. 2. 2. 2. 2.]\n",
      "round 5 | guess was poter | possible words remaining 4 result ==  [0. 2. 2. 2. 2.]\n",
      "round 6 | guess was toter | possible words remaining 4 result ==  [1. 2. 2. 2. 2.]\n",
      "round 7 | guess was roter | possible words remaining 4 result ==  [1. 2. 2. 2. 2.]\n",
      "round 8 | guess was toter | possible words remaining 4 result ==  [1. 2. 2. 2. 2.]\n",
      "round 9 | guess was roter | possible words remaining 4 result ==  [1. 2. 2. 2. 2.]\n",
      "round 10 | guess was toter | possible words remaining 4 result ==  [1. 2. 2. 2. 2.]\n",
      "round 11 | guess was roter | possible words remaining 4 result ==  [1. 2. 2. 2. 2.]\n",
      "round 12 | guess was toter | possible words remaining 4 result ==  [1. 2. 2. 2. 2.]\n",
      "round 13 | guess was roter | possible words remaining 4 result ==  [1. 2. 2. 2. 2.]\n",
      "round 14 | guess was roter | possible words remaining 4 result ==  [1. 2. 2. 2. 2.]\n",
      "round 15 | guess was noter | possible words remaining 3 result ==  [0. 2. 2. 2. 2.]\n",
      "round 16 | guess was voter | possible words remaining 1 result ==  [2. 2. 2. 2. 2.]\n",
      "Correct!\n",
      "round 0 | guess was facer | possible words remaining 2706 result ==  [0. 1. 0. 0. 0.]\n",
      "round 1 | guess was dubba | possible words remaining 64 result ==  [1. 0. 0. 0. 2.]\n",
      "round 2 | guess was dwyka | possible words remaining 53 result ==  [1. 0. 0. 0. 2.]\n",
      "round 3 | guess was maida | possible words remaining 7 result ==  [0. 1. 1. 2. 2.]\n",
      "round 4 | guess was haida | possible words remaining 5 result ==  [0. 1. 1. 2. 2.]\n",
      "round 5 | guess was linda | possible words remaining 1 result ==  [0. 2. 2. 2. 2.]\n",
      "round 6 | guess was pinda | possible words remaining 1 result ==  [2. 2. 2. 2. 2.]\n",
      "Correct!\n",
      "round 0 | guess was scalz | possible words remaining 2720 result ==  [0. 0. 1. 0. 0.]\n",
      "round 1 | guess was bagdi | possible words remaining 1035 result ==  [0. 1. 0. 0. 0.]\n",
      "round 2 | guess was mahwa | possible words remaining 541 result ==  [0. 1. 0. 0. 1.]\n",
      "round 3 | guess was kokan | possible words remaining 45 result ==  [0. 1. 0. 1. 1.]\n",
      "round 4 | guess was trona | possible words remaining 4 result ==  [1. 0. 2. 2. 1.]\n",
      "round 5 | guess was toona | possible words remaining 4 result ==  [1. 1. 2. 2. 1.]\n",
      "round 6 | guess was atony | possible words remaining 1 result ==  [2. 2. 2. 2. 2.]\n",
      "Correct!\n",
      "round 0 | guess was helio | possible words remaining 2555 result ==  [0. 1. 0. 0. 0.]\n",
      "round 1 | guess was crare | possible words remaining 115 result ==  [0. 2. 0. 1. 1.]\n",
      "round 2 | guess was trued | possible words remaining 11 result ==  [0. 2. 1. 1. 0.]\n",
      "round 3 | guess was urges | possible words remaining 7 result ==  [1. 2. 0. 1. 0.]\n",
      "round 4 | guess was bruke | possible words remaining 4 result ==  [0. 2. 1. 0. 1.]\n",
      "round 5 | guess was prune | possible words remaining 1 result ==  [0. 2. 1. 0. 1.]\n",
      "round 6 | guess was ervum | possible words remaining 1 result ==  [2. 2. 2. 2. 2.]\n",
      "Correct!\n",
      "round 0 | guess was kerri | possible words remaining 3583 result ==  [0. 0. 0. 0. 0.]\n",
      "round 1 | guess was cysts | possible words remaining 412 result ==  [0. 1. 0. 0. 0.]\n",
      "round 2 | guess was gobby | possible words remaining 104 result ==  [0. 0. 0. 0. 2.]\n",
      "round 3 | guess was humpy | possible words remaining 32 result ==  [0. 0. 0. 0. 2.]\n",
      "round 4 | guess was alday | possible words remaining 12 result ==  [1. 1. 0. 1. 2.]\n",
      "round 5 | guess was lawzy | possible words remaining 3 result ==  [2. 2. 0. 0. 2.]\n",
      "round 6 | guess was lanny | possible words remaining 2 result ==  [2. 2. 0. 0. 2.]\n",
      "round 7 | guess was laxly | possible words remaining 1 result ==  [2. 2. 0. 2. 2.]\n",
      "round 8 | guess was lally | possible words remaining 1 result ==  [2. 2. 2. 2. 2.]\n",
      "Correct!\n",
      "round 0 | guess was mossi | possible words remaining 1216 result ==  [0. 0. 1. 1. 1.]\n",
      "round 1 | guess was spiff | possible words remaining 336 result ==  [2. 0. 1. 0. 0.]\n",
      "round 2 | guess was sidle | possible words remaining 38 result ==  [2. 2. 0. 0. 0.]\n",
      "round 3 | guess was sirra | possible words remaining 6 result ==  [2. 2. 0. 0. 1.]\n",
      "round 4 | guess was sitta | possible words remaining 4 result ==  [2. 2. 0. 0. 1.]\n",
      "round 5 | guess was siwan | possible words remaining 1 result ==  [2. 2. 2. 2. 2.]\n",
      "Correct!\n",
      "round 0 | guess was snowl | possible words remaining 2471 result ==  [1. 0. 0. 0. 0.]\n",
      "round 1 | guess was cymes | possible words remaining 407 result ==  [0. 0. 0. 0. 2.]\n",
      "round 2 | guess was guars | possible words remaining 84 result ==  [0. 0. 1. 0. 2.]\n",
      "round 3 | guess was shaps | possible words remaining 48 result ==  [1. 0. 1. 0. 2.]\n",
      "round 4 | guess was stabs | possible words remaining 22 result ==  [1. 0. 1. 0. 2.]\n",
      "round 5 | guess was visas | possible words remaining 1 result ==  [2. 2. 2. 2. 2.]\n",
      "Correct!\n",
      "round 0 | guess was foxie | possible words remaining 409 result ==  [0. 0. 0. 1. 2.]\n",
      "round 1 | guess was titre | possible words remaining 239 result ==  [0. 1. 0. 0. 2.]\n",
      "round 2 | guess was shive | possible words remaining 34 result ==  [1. 0. 2. 0. 2.]\n",
      "round 3 | guess was spike | possible words remaining 21 result ==  [1. 0. 2. 0. 2.]\n",
      "round 4 | guess was guise | possible words remaining 1 result ==  [0. 2. 2. 2. 2.]\n",
      "round 5 | guess was juise | possible words remaining 1 result ==  [2. 2. 2. 2. 2.]\n",
      "Correct!\n",
      "finished, average number of rounds was 6.7\n"
     ]
    }
   ],
   "source": [
    "rounds = 3\n",
    "player_results = np.zeros(rounds)\n",
    "for k in range(rounds):\n",
    "    Orc.play()\n",
    "    possible_words = get_possible_words()\n",
    "    guess_list = []\n",
    "    result_list = []\n",
    "    finished = False\n",
    "    i = 0\n",
    "    while(i<27 and not finished):\n",
    "        guess = random.choice(possible_words)\n",
    "        result = Orc.test_guess(guess)\n",
    "        guess_list.append(guess)\n",
    "        result_list.append(result)\n",
    "        new_possible_words = get_new_possible_words(possible_words,guess_list,result_list)\n",
    "        possible_words = new_possible_words\n",
    "        print(\"round\",i,\"| guess was\",guess,\"| possible words remaining\",len(possible_words),\"result == \",result)\n",
    "        if (result == 2).all():\n",
    "            player_results[k]=i\n",
    "            print(\"Correct!\")\n",
    "            finished = True\n",
    "        i=i+1\n",
    "    if not finished: # impossible to reach\n",
    "        player_results[k]= np.inf\n",
    "        print(\"Failed :( , word was \",Orc.get_word())\n",
    "print(\"finished, average number of rounds was\",np.mean(player_results))"
   ]
  },
  {
   "cell_type": "markdown",
   "id": "670c8e83-799f-46b9-bc3e-5edbb48771fa",
   "metadata": {},
   "source": [
    "## Random Guessing (crane)"
   ]
  },
  {
   "cell_type": "code",
   "execution_count": 7,
   "id": "34d56b28-6390-4967-8853-339a79e31862",
   "metadata": {},
   "outputs": [
    {
     "name": "stdout",
     "output_type": "stream",
     "text": [
      "finished, average number of rounds was 5.307\n"
     ]
    }
   ],
   "source": [
    "rounds = 100\n",
    "player_results = np.zeros(rounds)\n",
    "for k in range(rounds):\n",
    "    Orc.play()\n",
    "    possible_words = get_possible_words()\n",
    "    guess_list = []\n",
    "    result_list = []\n",
    "    finished = False\n",
    "    i = 0\n",
    "    while(i<27 and not finished):\n",
    "        if i ==0:\n",
    "            guess = \"crane\"\n",
    "        else:\n",
    "            guess = random.choice(possible_words)\n",
    "        result = Orc.test_guess(guess)\n",
    "        guess_list.append(guess)\n",
    "        result_list.append(result)\n",
    "        new_possible_words = get_new_possible_words(possible_words,guess_list,result_list)\n",
    "        possible_words = new_possible_words\n",
    "        #print(\"round\",i,\"| guess was\",guess,\"| possible words remaining\",len(possible_words),\"result == \",result)\n",
    "        if (result == 2).all():\n",
    "            player_results[k]=i\n",
    "            #print(\"Correct!\")\n",
    "            finished = True\n",
    "        i=i+1\n",
    "    if not finished: # impossible to reach\n",
    "        player_results[k]= np.inf\n",
    "        #print(\"Failed :( , word was \",Orc.get_word())\n",
    "print(\"finished, average number of rounds was\",np.mean(player_results))"
   ]
  },
  {
   "cell_type": "markdown",
   "id": "084d73e5-ba42-4658-955d-d9ca4c3ad46f",
   "metadata": {},
   "source": [
    "## weighted guess (too slow doesn't work)"
   ]
  },
  {
   "cell_type": "code",
   "execution_count": 13,
   "id": "a0316375-3fdd-4ac6-aaeb-2f1f6df6f207",
   "metadata": {},
   "outputs": [
    {
     "ename": "KeyboardInterrupt",
     "evalue": "",
     "output_type": "error",
     "traceback": [
      "\u001b[1;31m---------------------------------------------------------------------------\u001b[0m",
      "\u001b[1;31mKeyboardInterrupt\u001b[0m                         Traceback (most recent call last)",
      "\u001b[1;32m<ipython-input-13-97a1b46cadeb>\u001b[0m in \u001b[0;36m<module>\u001b[1;34m\u001b[0m\n\u001b[0;32m     22\u001b[0m     \u001b[0mi\u001b[0m \u001b[1;33m=\u001b[0m \u001b[1;36m0\u001b[0m\u001b[1;33m\u001b[0m\u001b[1;33m\u001b[0m\u001b[0m\n\u001b[0;32m     23\u001b[0m     \u001b[1;32mwhile\u001b[0m\u001b[1;33m(\u001b[0m\u001b[0mi\u001b[0m\u001b[1;33m<\u001b[0m\u001b[1;36m27\u001b[0m \u001b[1;32mand\u001b[0m \u001b[1;32mnot\u001b[0m \u001b[0mfinished\u001b[0m\u001b[1;33m)\u001b[0m\u001b[1;33m:\u001b[0m\u001b[1;33m\u001b[0m\u001b[1;33m\u001b[0m\u001b[0m\n\u001b[1;32m---> 24\u001b[1;33m         \u001b[0mguess\u001b[0m \u001b[1;33m=\u001b[0m \u001b[0mmake_guess_weighted\u001b[0m\u001b[1;33m(\u001b[0m\u001b[0mpossible_words\u001b[0m\u001b[1;33m)\u001b[0m\u001b[1;33m\u001b[0m\u001b[1;33m\u001b[0m\u001b[0m\n\u001b[0m\u001b[0;32m     25\u001b[0m         \u001b[0mresult\u001b[0m \u001b[1;33m=\u001b[0m \u001b[0mOrc\u001b[0m\u001b[1;33m.\u001b[0m\u001b[0mtest_guess\u001b[0m\u001b[1;33m(\u001b[0m\u001b[0mguess\u001b[0m\u001b[1;33m)\u001b[0m\u001b[1;33m\u001b[0m\u001b[1;33m\u001b[0m\u001b[0m\n\u001b[0;32m     26\u001b[0m         \u001b[0mguess_list\u001b[0m\u001b[1;33m.\u001b[0m\u001b[0mappend\u001b[0m\u001b[1;33m(\u001b[0m\u001b[0mguess\u001b[0m\u001b[1;33m)\u001b[0m\u001b[1;33m\u001b[0m\u001b[1;33m\u001b[0m\u001b[0m\n",
      "\u001b[1;32m<ipython-input-13-97a1b46cadeb>\u001b[0m in \u001b[0;36mmake_guess_weighted\u001b[1;34m(possible_words)\u001b[0m\n\u001b[0;32m      7\u001b[0m                 \u001b[0mweight\u001b[0m\u001b[1;33m+=\u001b[0m \u001b[0mfreq\u001b[0m\u001b[1;33m\u001b[0m\u001b[1;33m\u001b[0m\u001b[0m\n\u001b[0;32m      8\u001b[0m         \u001b[0mweights\u001b[0m\u001b[1;33m.\u001b[0m\u001b[0mappend\u001b[0m\u001b[1;33m(\u001b[0m\u001b[0mweight\u001b[0m\u001b[1;33m)\u001b[0m\u001b[1;33m\u001b[0m\u001b[1;33m\u001b[0m\u001b[0m\n\u001b[1;32m----> 9\u001b[1;33m         \u001b[0mweights\u001b[0m \u001b[1;33m=\u001b[0m \u001b[1;33m[\u001b[0m\u001b[0mweight\u001b[0m\u001b[1;33m/\u001b[0m \u001b[0msum\u001b[0m\u001b[1;33m(\u001b[0m\u001b[0mweights\u001b[0m\u001b[1;33m)\u001b[0m \u001b[1;32mfor\u001b[0m \u001b[0mweight\u001b[0m \u001b[1;32min\u001b[0m \u001b[0mweights\u001b[0m\u001b[1;33m]\u001b[0m\u001b[1;33m\u001b[0m\u001b[1;33m\u001b[0m\u001b[0m\n\u001b[0m\u001b[0;32m     10\u001b[0m \u001b[1;33m\u001b[0m\u001b[0m\n\u001b[0;32m     11\u001b[0m     \u001b[0mguesses\u001b[0m \u001b[1;33m=\u001b[0m \u001b[0mrandom\u001b[0m\u001b[1;33m.\u001b[0m\u001b[0mchoices\u001b[0m\u001b[1;33m(\u001b[0m\u001b[0mpopulation\u001b[0m \u001b[1;33m=\u001b[0m \u001b[0mpossible_words\u001b[0m\u001b[1;33m,\u001b[0m\u001b[0mweights\u001b[0m\u001b[1;33m=\u001b[0m\u001b[0mweights\u001b[0m\u001b[1;33m)\u001b[0m\u001b[1;33m\u001b[0m\u001b[1;33m\u001b[0m\u001b[0m\n",
      "\u001b[1;32m<ipython-input-13-97a1b46cadeb>\u001b[0m in \u001b[0;36m<listcomp>\u001b[1;34m(.0)\u001b[0m\n\u001b[0;32m      7\u001b[0m                 \u001b[0mweight\u001b[0m\u001b[1;33m+=\u001b[0m \u001b[0mfreq\u001b[0m\u001b[1;33m\u001b[0m\u001b[1;33m\u001b[0m\u001b[0m\n\u001b[0;32m      8\u001b[0m         \u001b[0mweights\u001b[0m\u001b[1;33m.\u001b[0m\u001b[0mappend\u001b[0m\u001b[1;33m(\u001b[0m\u001b[0mweight\u001b[0m\u001b[1;33m)\u001b[0m\u001b[1;33m\u001b[0m\u001b[1;33m\u001b[0m\u001b[0m\n\u001b[1;32m----> 9\u001b[1;33m         \u001b[0mweights\u001b[0m \u001b[1;33m=\u001b[0m \u001b[1;33m[\u001b[0m\u001b[0mweight\u001b[0m\u001b[1;33m/\u001b[0m \u001b[0msum\u001b[0m\u001b[1;33m(\u001b[0m\u001b[0mweights\u001b[0m\u001b[1;33m)\u001b[0m \u001b[1;32mfor\u001b[0m \u001b[0mweight\u001b[0m \u001b[1;32min\u001b[0m \u001b[0mweights\u001b[0m\u001b[1;33m]\u001b[0m\u001b[1;33m\u001b[0m\u001b[1;33m\u001b[0m\u001b[0m\n\u001b[0m\u001b[0;32m     10\u001b[0m \u001b[1;33m\u001b[0m\u001b[0m\n\u001b[0;32m     11\u001b[0m     \u001b[0mguesses\u001b[0m \u001b[1;33m=\u001b[0m \u001b[0mrandom\u001b[0m\u001b[1;33m.\u001b[0m\u001b[0mchoices\u001b[0m\u001b[1;33m(\u001b[0m\u001b[0mpopulation\u001b[0m \u001b[1;33m=\u001b[0m \u001b[0mpossible_words\u001b[0m\u001b[1;33m,\u001b[0m\u001b[0mweights\u001b[0m\u001b[1;33m=\u001b[0m\u001b[0mweights\u001b[0m\u001b[1;33m)\u001b[0m\u001b[1;33m\u001b[0m\u001b[1;33m\u001b[0m\u001b[0m\n",
      "\u001b[1;31mKeyboardInterrupt\u001b[0m: "
     ]
    }
   ],
   "source": [
    "def make_guess_weighted(possible_words): #  too slow\n",
    "    weights=[]\n",
    "    for choice in possible_words:\n",
    "        weight = 0\n",
    "        for letter, freq in letter_freq_dict.items():\n",
    "            if letter in choice:\n",
    "                weight+= freq\n",
    "        weights.append(weight) \n",
    "        weights = [weight/ sum(weights) for weight in weights]\n",
    "\n",
    "    guesses = random.choices(population = possible_words,weights=weights)\n",
    "\n",
    "rounds = 1\n",
    "player_results = np.zeros(rounds)\n",
    "for k in range(rounds):\n",
    "    Orc.play()\n",
    "    possible_words = get_possible_words()\n",
    "    guess_list = []\n",
    "    result_list = []\n",
    "    finished = False\n",
    "    i = 0\n",
    "    while(i<27 and not finished):\n",
    "        guess = make_guess_weighted(possible_words)\n",
    "        result = Orc.test_guess(guess)\n",
    "        guess_list.append(guess)\n",
    "        result_list.append(result)\n",
    "        new_possible_words = get_new_possible_words(possible_words,guess_list,result_list)\n",
    "        possible_words = new_possible_words\n",
    "        #print(\"round\",i,\"| guess was\",guess,\"| possible words remaining\",len(possible_words),\"result == \",result)\n",
    "        if (result == 2).all():\n",
    "            player_results[k]=i\n",
    "            #print(\"Correct!\")\n",
    "            finished = True\n",
    "        i=i+1\n",
    "    if not finished: # impossible to reach\n",
    "        player_results[k]= np.inf\n",
    "        #print(\"Failed :( , word was \",Orc.get_word())\n",
    "print(\"finished, average number of rounds was\",np.mean(player_results))"
   ]
  }
 ],
 "metadata": {
  "kernelspec": {
   "display_name": "Python 3",
   "language": "python",
   "name": "python3"
  },
  "language_info": {
   "codemirror_mode": {
    "name": "ipython",
    "version": 3
   },
   "file_extension": ".py",
   "mimetype": "text/x-python",
   "name": "python",
   "nbconvert_exporter": "python",
   "pygments_lexer": "ipython3",
   "version": "3.9.4"
  }
 },
 "nbformat": 4,
 "nbformat_minor": 5
}
